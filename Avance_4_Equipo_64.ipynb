{
  "nbformat": 4,
  "nbformat_minor": 0,
  "metadata": {
    "colab": {
      "provenance": []
    },
    "kernelspec": {
      "name": "python3",
      "display_name": "Python 3"
    },
    "language_info": {
      "name": "python"
    }
  },
  "cells": [
    {
      "cell_type": "markdown",
      "source": [
        "# Avance 4: Modelos Alternativos\n",
        "\n",
        "**Objetivo:** Explorar, construir, evaluar y comparar al menos seis modelos individuales diferentes para encontrar la configuración óptima que maximice el rendimiento en la tarea de clasificación."
      ],
      "metadata": {
        "id": "twclL7-qDfJG"
      }
    },
    {
      "cell_type": "markdown",
      "source": [
        "## 1. Configuración del Entorno e Importación de Librerías ⚙️"
      ],
      "metadata": {
        "id": "-UpXiEzFDlD3"
      }
    },
    {
      "cell_type": "code",
      "source": [
        "# Manipulación de datos y utilidades\n",
        "import pandas as pd\n",
        "import numpy as np\n",
        "import joblib\n",
        "import time\n",
        "from IPython.display import display\n",
        "\n",
        "# Preprocesamiento\n",
        "from sklearn.preprocessing import LabelEncoder, label_binarize\n",
        "\n",
        "# Modelos (Individuales)\n",
        "from sklearn.linear_model import LogisticRegression\n",
        "from sklearn.neighbors import KNeighborsClassifier\n",
        "from sklearn.tree import DecisionTreeClassifier\n",
        "from sklearn.svm import SVC\n",
        "from sklearn.naive_bayes import MultinomialNB # Asume características no negativas (ej. TF-IDF)\n",
        "# from sklearn.naive_bayes import GaussianNB # Alternativa si hay características negativas/continuas\n",
        "from sklearn.neural_network import MLPClassifier\n",
        "\n",
        "# Selección y Evaluación\n",
        "from sklearn.model_selection import GridSearchCV\n",
        "from sklearn.metrics import accuracy_score, classification_report, roc_auc_score, f1_score\n",
        "\n",
        "# Google Colab\n",
        "from google.colab import drive\n",
        "\n",
        "# Montar Google Drive\n",
        "drive.mount(\"/content/drive\")\n",
        "\n",
        "# Ignorar warnings futuros (opcional)\n",
        "import warnings\n",
        "warnings.filterwarnings('ignore')"
      ],
      "metadata": {
        "colab": {
          "base_uri": "https://localhost:8080/"
        },
        "id": "DDNBKNTIDja8",
        "outputId": "2c28f22b-fc45-4376-f3c1-e626015011d7"
      },
      "execution_count": 2,
      "outputs": [
        {
          "output_type": "stream",
          "name": "stdout",
          "text": [
            "Mounted at /content/drive\n"
          ]
        }
      ]
    },
    {
      "cell_type": "markdown",
      "source": [
        "## 2. Carga y Preparación de Datos 💾"
      ],
      "metadata": {
        "id": "_pr4J_vyEBZP"
      }
    },
    {
      "cell_type": "code",
      "source": [
        "# Cargar archivos preprocesados\n",
        "try:\n",
        "    X_train, X_test, y_train, y_test = joblib.load('/content/drive/MyDrive/Proyecto Integrador/pre_training_data.joblib')\n",
        "    print(\"Datos cargados exitosamente.\")\n",
        "    print(\"Dimensiones X_train:\", X_train.shape)\n",
        "    print(\"Dimensiones y_train:\", y_train.shape)\n",
        "    print(\"Dimensiones X_test:\", X_test.shape)\n",
        "    print(\"Dimensiones y_test:\", y_test.shape)\n",
        "except FileNotFoundError:\n",
        "    print(\"Error: El archivo 'pre_training_data.joblib' no se encontró en la ruta especificada.\")\n",
        "    print(\"Asegúrate de que la ruta '/content/drive/MyDrive/Proyecto Integrador/' sea correcta.\")\n",
        "    # Detener ejecución si no se cargan los datos\n",
        "    raise SystemExit(\"Error crítico: Datos no encontrados.\")\n",
        "\n",
        "\n",
        "# Codificar etiquetas para modelos que lo requieran (MNB, MLP)\n",
        "le = LabelEncoder()\n",
        "y_train_encoded = le.fit_transform(y_train)\n",
        "y_test_encoded = le.transform(y_test) # Usar solo transform en test\n",
        "class_names = le.classes_ # Guardar nombres de clases originales\n",
        "print(\"\\nClases originales:\", class_names)\n",
        "print(\"Primeras 5 etiquetas y_train codificadas:\", y_train_encoded[:5])\n",
        "\n",
        "# Definir métricas para evaluación\n",
        "scoring = ['accuracy', 'f1_macro', 'roc_auc_ovr']\n",
        "\n",
        "# Lista para almacenar resultados resumidos de la búsqueda inicial\n",
        "initial_results_list = []\n",
        "\n",
        "# Diccionario para guardar los mejores estimadores iniciales\n",
        "best_estimators_initial = {}"
      ],
      "metadata": {
        "colab": {
          "base_uri": "https://localhost:8080/"
        },
        "id": "FhqL-rpXD_eq",
        "outputId": "6b5cd931-28fc-49cd-efe1-04bd82875d23"
      },
      "execution_count": 4,
      "outputs": [
        {
          "output_type": "stream",
          "name": "stdout",
          "text": [
            "Datos cargados exitosamente.\n",
            "Dimensiones X_train: (184, 224232)\n",
            "Dimensiones y_train: (184,)\n",
            "Dimensiones X_test: (46, 224232)\n",
            "Dimensiones y_test: (46,)\n",
            "\n",
            "Clases originales: [-1  0  1]\n",
            "Primeras 5 etiquetas y_train codificadas: [2 1 1 2 1]\n"
          ]
        }
      ]
    },
    {
      "cell_type": "markdown",
      "source": [
        "## 3. Entrenamiento y Evaluación Inicial (GridSearch CV=2) 🧪\n",
        "\n",
        "Se entrenarán 6 modelos individuales diferentes con una búsqueda básica de hiperparámetros (`cv=2`) para una comparación inicial rápida."
      ],
      "metadata": {
        "id": "ihhoCe4uEMnT"
      }
    },
    {
      "cell_type": "markdown",
      "source": [
        "### Modelo 1: Regresión Logística"
      ],
      "metadata": {
        "id": "NxsVRa2xEOzr"
      }
    },
    {
      "cell_type": "code",
      "source": [
        "print(\"--- Entrenando Regresión Logística ---\")\n",
        "model_name = 'Regresión Logística'\n",
        "clf_lr = LogisticRegression(\n",
        "    solver=\"saga\",\n",
        "    max_iter=1000, # Reducido para acelerar, ajustar si no converge\n",
        "    penalty=\"l2\",\n",
        "    class_weight=\"balanced\",\n",
        "    random_state=42\n",
        ")\n",
        "\n",
        "param_grid_lr = {\n",
        "    'C': [0.01, 1, 100] # Grid reducido para rapidez\n",
        "}\n",
        "\n",
        "grid_search_lr = GridSearchCV(estimator=clf_lr, param_grid=param_grid_lr, cv=2, scoring=scoring, verbose=1, n_jobs=-1, refit='accuracy')\n",
        "\n",
        "start_time = time.time()\n",
        "# La Regresión Logística de sklearn maneja etiquetas string\n",
        "grid_search_lr.fit(X_train, y_train)\n",
        "end_time = time.time()\n",
        "training_time = end_time - start_time\n",
        "\n",
        "LR_resultados = pd.DataFrame(grid_search_lr.cv_results_)\n",
        "best_index_lr = grid_search_lr.best_index_\n",
        "\n",
        "initial_results_list.append({\n",
        "    'Modelo': model_name,\n",
        "    'Mejor Accuracy (CV)': grid_search_lr.best_score_,\n",
        "    'F1 Macro (CV)': LR_resultados.loc[best_index_lr, 'mean_test_f1_macro'],\n",
        "    'ROC AUC OVR (CV)': LR_resultados.loc[best_index_lr, 'mean_test_roc_auc_ovr'],\n",
        "    'Tiempo Entrenamiento (s)': training_time,\n",
        "    'Mejores Parámetros': str(grid_search_lr.best_params_)\n",
        "})\n",
        "best_estimators_initial[model_name] = grid_search_lr.best_estimator_\n",
        "\n",
        "print(f\"Mejor Accuracy (CV): {grid_search_lr.best_score_:.4f}\")\n",
        "print(f\"Mejores Parámetros: {grid_search_lr.best_params_}\")\n",
        "print(f\"Tiempo de entrenamiento: {training_time:.2f} segundos\")"
      ],
      "metadata": {
        "colab": {
          "base_uri": "https://localhost:8080/"
        },
        "id": "qkpXIm84EHvc",
        "outputId": "fbe96136-7685-47fe-daa6-a1cca54bfbbf"
      },
      "execution_count": 5,
      "outputs": [
        {
          "output_type": "stream",
          "name": "stdout",
          "text": [
            "--- Entrenando Regresión Logística ---\n",
            "Fitting 2 folds for each of 3 candidates, totalling 6 fits\n",
            "Mejor Accuracy (CV): 0.6522\n",
            "Mejores Parámetros: {'C': 100}\n",
            "Tiempo de entrenamiento: 779.64 segundos\n"
          ]
        }
      ]
    },
    {
      "cell_type": "markdown",
      "source": [
        "### Modelo 2: K-Nearest Neighbors (KNN)"
      ],
      "metadata": {
        "id": "auEsW_PuIId8"
      }
    },
    {
      "cell_type": "code",
      "source": [
        "print(\"--- Entrenando K-Nearest Neighbors ---\")\n",
        "model_name = 'KNN'\n",
        "clf_knn = KNeighborsClassifier()\n",
        "\n",
        "param_grid_knn = {\n",
        "    'n_neighbors': [3, 5, 7], # Pocos vecinos para rapidez\n",
        "    'weights': ['uniform', 'distance']\n",
        "}\n",
        "\n",
        "grid_search_knn = GridSearchCV(estimator=clf_knn, param_grid=param_grid_knn, cv=2, scoring=scoring, verbose=1, n_jobs=-1, refit='accuracy')\n",
        "\n",
        "start_time = time.time()\n",
        "# KNN de sklearn maneja etiquetas string\n",
        "grid_search_knn.fit(X_train, y_train)\n",
        "end_time = time.time()\n",
        "training_time = end_time - start_time\n",
        "\n",
        "KNN_resultados = pd.DataFrame(grid_search_knn.cv_results_)\n",
        "best_index_knn = grid_search_knn.best_index_\n",
        "\n",
        "initial_results_list.append({\n",
        "    'Modelo': model_name,\n",
        "    'Mejor Accuracy (CV)': grid_search_knn.best_score_,\n",
        "    'F1 Macro (CV)': KNN_resultados.loc[best_index_knn, 'mean_test_f1_macro'],\n",
        "    'ROC AUC OVR (CV)': KNN_resultados.loc[best_index_knn, 'mean_test_roc_auc_ovr'],\n",
        "    'Tiempo Entrenamiento (s)': training_time,\n",
        "    'Mejores Parámetros': str(grid_search_knn.best_params_)\n",
        "})\n",
        "best_estimators_initial[model_name] = grid_search_knn.best_estimator_\n",
        "\n",
        "print(f\"Mejor Accuracy (CV): {grid_search_knn.best_score_:.4f}\")\n",
        "print(f\"Mejores Parámetros: {grid_search_knn.best_params_}\")\n",
        "print(f\"Tiempo de entrenamiento: {training_time:.2f} segundos\")"
      ],
      "metadata": {
        "colab": {
          "base_uri": "https://localhost:8080/"
        },
        "id": "lFBtCuTcERJz",
        "outputId": "15cd66e5-6547-4180-e9b0-aed7dfba3a9a"
      },
      "execution_count": 6,
      "outputs": [
        {
          "output_type": "stream",
          "name": "stdout",
          "text": [
            "--- Entrenando K-Nearest Neighbors ---\n",
            "Fitting 2 folds for each of 6 candidates, totalling 12 fits\n",
            "Mejor Accuracy (CV): 0.6848\n",
            "Mejores Parámetros: {'n_neighbors': 7, 'weights': 'distance'}\n",
            "Tiempo de entrenamiento: 9.06 segundos\n"
          ]
        }
      ]
    },
    {
      "cell_type": "markdown",
      "source": [
        "### Modelo 3: Árbol de Decisión"
      ],
      "metadata": {
        "id": "o3DCA8EMIUum"
      }
    },
    {
      "cell_type": "code",
      "source": [
        "print(\"--- Entrenando Árbol de Decisión ---\")\n",
        "model_name = 'Árbol Decisión'\n",
        "clf_dt = DecisionTreeClassifier(random_state=42, class_weight='balanced')\n",
        "\n",
        "param_grid_dt = {\n",
        "    'criterion': ['gini', 'entropy'],\n",
        "    'max_depth': [None, 10, 20], # Limitar profundidad para evitar overfitting rápido\n",
        "    'min_samples_split': [2, 10]\n",
        "}\n",
        "\n",
        "grid_search_dt = GridSearchCV(estimator=clf_dt, param_grid=param_grid_dt, cv=2, scoring=scoring, verbose=1, n_jobs=-1, refit='accuracy')\n",
        "\n",
        "start_time = time.time()\n",
        "# Decision Tree de sklearn maneja etiquetas string\n",
        "grid_search_dt.fit(X_train, y_train)\n",
        "end_time = time.time()\n",
        "training_time = end_time - start_time\n",
        "\n",
        "DT_resultados = pd.DataFrame(grid_search_dt.cv_results_)\n",
        "best_index_dt = grid_search_dt.best_index_\n",
        "\n",
        "initial_results_list.append({\n",
        "    'Modelo': model_name,\n",
        "    'Mejor Accuracy (CV)': grid_search_dt.best_score_,\n",
        "    'F1 Macro (CV)': DT_resultados.loc[best_index_dt, 'mean_test_f1_macro'],\n",
        "    'ROC AUC OVR (CV)': DT_resultados.loc[best_index_dt, 'mean_test_roc_auc_ovr'],\n",
        "    'Tiempo Entrenamiento (s)': training_time,\n",
        "    'Mejores Parámetros': str(grid_search_dt.best_params_)\n",
        "})\n",
        "best_estimators_initial[model_name] = grid_search_dt.best_estimator_\n",
        "\n",
        "print(f\"Mejor Accuracy (CV): {grid_search_dt.best_score_:.4f}\")\n",
        "print(f\"Mejores Parámetros: {grid_search_dt.best_params_}\")\n",
        "print(f\"Tiempo de entrenamiento: {training_time:.2f} segundos\")"
      ],
      "metadata": {
        "colab": {
          "base_uri": "https://localhost:8080/"
        },
        "id": "bMoFjuwKIL05",
        "outputId": "27bb4a10-8fb2-46db-e376-e8b7f4d5d133"
      },
      "execution_count": 7,
      "outputs": [
        {
          "output_type": "stream",
          "name": "stdout",
          "text": [
            "--- Entrenando Árbol de Decisión ---\n",
            "Fitting 2 folds for each of 12 candidates, totalling 24 fits\n",
            "Mejor Accuracy (CV): 0.5707\n",
            "Mejores Parámetros: {'criterion': 'gini', 'max_depth': None, 'min_samples_split': 2}\n",
            "Tiempo de entrenamiento: 48.76 segundos\n"
          ]
        }
      ]
    },
    {
      "cell_type": "markdown",
      "source": [
        "### Modelo 4: Support Vector Classifier (SVC)"
      ],
      "metadata": {
        "id": "ilYu5R3DI8e9"
      }
    },
    {
      "cell_type": "code",
      "source": [
        "print(\"--- Entrenando Support Vector Classifier ---\")\n",
        "model_name = 'SVC'\n",
        "clf_svc = SVC(\n",
        "    random_state=42,\n",
        "    class_weight='balanced',\n",
        "    probability=True # Necesario para ROC AUC\n",
        ")\n",
        "\n",
        "param_grid_svc = {\n",
        "    'C': [0.1, 1, 10], # Grid reducido\n",
        "    'gamma': [1, 'scale'], # Simplificado\n",
        "    'kernel': ['rbf'] # Enfocarse en RBF inicialmente\n",
        "}\n",
        "\n",
        "grid_search_svc = GridSearchCV(estimator=clf_svc, param_grid=param_grid_svc, cv=2, scoring=scoring, verbose=1, n_jobs=-1, refit='accuracy')\n",
        "\n",
        "start_time = time.time()\n",
        "# SVC de sklearn maneja etiquetas string\n",
        "grid_search_svc.fit(X_train, y_train)\n",
        "end_time = time.time()\n",
        "training_time = end_time - start_time\n",
        "\n",
        "SVM_resultados = pd.DataFrame(grid_search_svc.cv_results_)\n",
        "best_index_svc = grid_search_svc.best_index_\n",
        "\n",
        "initial_results_list.append({\n",
        "    'Modelo': model_name,\n",
        "    'Mejor Accuracy (CV)': grid_search_svc.best_score_,\n",
        "    'F1 Macro (CV)': SVM_resultados.loc[best_index_svc, 'mean_test_f1_macro'],\n",
        "    'ROC AUC OVR (CV)': SVM_resultados.loc[best_index_svc, 'mean_test_roc_auc_ovr'],\n",
        "    'Tiempo Entrenamiento (s)': training_time,\n",
        "    'Mejores Parámetros': str(grid_search_svc.best_params_)\n",
        "})\n",
        "best_estimators_initial[model_name] = grid_search_svc.best_estimator_\n",
        "\n",
        "print(f\"Mejor Accuracy (CV): {grid_search_svc.best_score_:.4f}\")\n",
        "print(f\"Mejores Parámetros: {grid_search_svc.best_params_}\")\n",
        "print(f\"Tiempo de entrenamiento: {training_time:.2f} segundos\")"
      ],
      "metadata": {
        "colab": {
          "base_uri": "https://localhost:8080/"
        },
        "id": "G6La0GdsIYK6",
        "outputId": "5f07c6db-0eb5-4564-c51d-473450b7507e"
      },
      "execution_count": 8,
      "outputs": [
        {
          "output_type": "stream",
          "name": "stdout",
          "text": [
            "--- Entrenando Support Vector Classifier ---\n",
            "Fitting 2 folds for each of 6 candidates, totalling 12 fits\n",
            "Mejor Accuracy (CV): 0.6848\n",
            "Mejores Parámetros: {'C': 1, 'gamma': 1, 'kernel': 'rbf'}\n",
            "Tiempo de entrenamiento: 155.23 segundos\n"
          ]
        }
      ]
    },
    {
      "cell_type": "markdown",
      "source": [
        "### Modelo 5: Multinomial Naive Bayes (MNB)\n",
        "*Nota: Este modelo asume que las características de entrada son no negativas (ej., conteos de palabras, TF-IDF). Si tus datos preprocesados tienen valores negativos (ej., por escalado StandardScaler), este modelo podría fallar o dar resultados incorrectos. Considera usar `GaussianNB` como alternativa si es el caso.*"
      ],
      "metadata": {
        "id": "_DES9C5lJzDm"
      }
    },
    {
      "cell_type": "code",
      "source": [
        "import scipy.sparse # Add this import if not already present\n",
        "\n",
        "print(\"--- Entrenando Multinomial Naive Bayes ---\")\n",
        "model_name = 'Naive Bayes MNB'\n",
        "\n",
        "# Safer check for negative values in sparse matrix\n",
        "negative_check = False\n",
        "if scipy.sparse.issparse(X_train):\n",
        "    # For sparse matrices, check the minimum recorded value\n",
        "    if X_train.nnz > 0: # Ensure the matrix is not empty\n",
        "       negative_check = X_train.min() < 0\n",
        "else:\n",
        "    # For dense arrays, np.any is fine\n",
        "    negative_check = np.any(X_train < 0)\n",
        "\n",
        "\n",
        "if negative_check:\n",
        "    print(\"ADVERTENCIA: X_train contiene valores negativos. MultinomialNB no es apropiado. Considera usar GaussianNB.\")\n",
        "    # You might want to stop or switch model here depending on requirements\n",
        "    # For now, we proceed but MNB results might be unreliable\n",
        "    clf_nb = MultinomialNB()\n",
        "    param_grid_nb = {\n",
        "      'alpha': [0.1, 1.0, 10.0]\n",
        "    }\n",
        "else:\n",
        "    print(\"X_train no contiene valores negativos. Procediendo con MultinomialNB.\")\n",
        "    clf_nb = MultinomialNB()\n",
        "    param_grid_nb = {\n",
        "      'alpha': [0.1, 1.0, 10.0] # Probar pocos valores de suavizado\n",
        "    }\n",
        "\n",
        "\n",
        "grid_search_nb = GridSearchCV(estimator=clf_nb, param_grid=param_grid_nb, cv=2, scoring=scoring, verbose=1, n_jobs=-1, refit='accuracy')\n",
        "\n",
        "start_time = time.time()\n",
        "# MNB generalmente funciona mejor con etiquetas numéricas, usamos las codificadas\n",
        "grid_search_nb.fit(X_train, y_train_encoded)\n",
        "end_time = time.time()\n",
        "training_time = end_time - start_time\n",
        "\n",
        "MNB_resultados = pd.DataFrame(grid_search_nb.cv_results_)\n",
        "best_index_nb = grid_search_nb.best_index_\n",
        "\n",
        "initial_results_list.append({\n",
        "    'Modelo': model_name,\n",
        "    'Mejor Accuracy (CV)': grid_search_nb.best_score_,\n",
        "    'F1 Macro (CV)': MNB_resultados.loc[best_index_nb, 'mean_test_f1_macro'],\n",
        "    'ROC AUC OVR (CV)': MNB_resultados.loc[best_index_nb, 'mean_test_roc_auc_ovr'],\n",
        "    'Tiempo Entrenamiento (s)': training_time,\n",
        "    'Mejores Parámetros': str(grid_search_nb.best_params_)\n",
        "})\n",
        "best_estimators_initial[model_name] = grid_search_nb.best_estimator_\n",
        "\n",
        "print(f\"Mejor Accuracy (CV): {grid_search_nb.best_score_:.4f}\")\n",
        "print(f\"Mejores Parámetros: {grid_search_nb.best_params_}\")\n",
        "print(f\"Tiempo de entrenamiento: {training_time:.2f} segundos\")"
      ],
      "metadata": {
        "colab": {
          "base_uri": "https://localhost:8080/"
        },
        "id": "aNvmDNpuJ3pf",
        "outputId": "c58856dc-353f-404c-d3d1-0893f63f9f06"
      },
      "execution_count": 11,
      "outputs": [
        {
          "output_type": "stream",
          "name": "stdout",
          "text": [
            "--- Entrenando Multinomial Naive Bayes ---\n",
            "X_train no contiene valores negativos. Procediendo con MultinomialNB.\n",
            "Fitting 2 folds for each of 3 candidates, totalling 6 fits\n",
            "Mejor Accuracy (CV): 0.6739\n",
            "Mejores Parámetros: {'alpha': 0.1}\n",
            "Tiempo de entrenamiento: 1.02 segundos\n"
          ]
        }
      ]
    },
    {
      "cell_type": "markdown",
      "source": [
        "### Modelo 6: Multi-layer Perceptron (MLP)"
      ],
      "metadata": {
        "id": "Hte1UTXDKd6a"
      }
    },
    {
      "cell_type": "code",
      "source": [
        "print(\"--- Entrenando Multi-layer Perceptron ---\")\n",
        "model_name = 'Red Neuronal MLP'\n",
        "clf_mlp = MLPClassifier(\n",
        "    random_state=42,\n",
        "    max_iter=100, # Reducido para acelerar\n",
        "    early_stopping=True # Usar early stopping para evitar overfitting y acelerar\n",
        ")\n",
        "\n",
        "param_grid_mlp = {\n",
        "    'hidden_layer_sizes': [(16,), (32,), (16, 8)], # Arquitecturas pequeñas/medianas\n",
        "    'alpha': [0.001, 0.01], # Regularización\n",
        "    'learning_rate_init': [0.001, 0.01]\n",
        "}\n",
        "\n",
        "grid_search_mlp = GridSearchCV(estimator=clf_mlp, param_grid=param_grid_mlp, cv=2, scoring=scoring, verbose=1, n_jobs=-1, refit='accuracy')\n",
        "\n",
        "start_time = time.time()\n",
        "# MLP requiere etiquetas numéricas\n",
        "grid_search_mlp.fit(X_train, y_train_encoded)\n",
        "end_time = time.time()\n",
        "training_time = end_time - start_time\n",
        "\n",
        "MLP_resultados = pd.DataFrame(grid_search_mlp.cv_results_)\n",
        "best_index_mlp = grid_search_mlp.best_index_\n",
        "\n",
        "initial_results_list.append({\n",
        "    'Modelo': model_name,\n",
        "    'Mejor Accuracy (CV)': grid_search_mlp.best_score_,\n",
        "    'F1 Macro (CV)': MLP_resultados.loc[best_index_mlp, 'mean_test_f1_macro'],\n",
        "    'ROC AUC OVR (CV)': MLP_resultados.loc[best_index_mlp, 'mean_test_roc_auc_ovr'],\n",
        "    'Tiempo Entrenamiento (s)': training_time,\n",
        "    'Mejores Parámetros': str(grid_search_mlp.best_params_)\n",
        "})\n",
        "best_estimators_initial[model_name] = grid_search_mlp.best_estimator_\n",
        "\n",
        "print(f\"Mejor Accuracy (CV): {grid_search_mlp.best_score_:.4f}\")\n",
        "print(f\"Mejores Parámetros: {grid_search_mlp.best_params_}\")\n",
        "print(f\"Tiempo de entrenamiento: {training_time:.2f} segundos\")"
      ],
      "metadata": {
        "colab": {
          "base_uri": "https://localhost:8080/"
        },
        "id": "A39FXTRkKZBQ",
        "outputId": "293ab079-9876-4fe8-bbd2-c1edfdc9e17a"
      },
      "execution_count": 12,
      "outputs": [
        {
          "output_type": "stream",
          "name": "stdout",
          "text": [
            "--- Entrenando Multi-layer Perceptron ---\n",
            "Fitting 2 folds for each of 12 candidates, totalling 24 fits\n",
            "Mejor Accuracy (CV): 0.6793\n",
            "Mejores Parámetros: {'alpha': 0.001, 'hidden_layer_sizes': (16,), 'learning_rate_init': 0.001}\n",
            "Tiempo de entrenamiento: 112.00 segundos\n"
          ]
        }
      ]
    },
    {
      "cell_type": "markdown",
      "source": [
        "## 4. Tabla Comparativa y Selección de los Mejores Modelos 📊"
      ],
      "metadata": {
        "id": "GqCpEPa0LDRD"
      }
    },
    {
      "cell_type": "code",
      "source": [
        "tabla_comparativa = pd.DataFrame(initial_results_list)\n",
        "tabla_comparativa = tabla_comparativa.sort_values(by='Mejor Accuracy (CV)', ascending=False).reset_index(drop=True)\n",
        "\n",
        "print(\"\\n### Tabla Comparativa de Modelos (Resultados del GridSearchCV Inicial)\")\n",
        "display(tabla_comparativa[['Modelo', 'Mejor Accuracy (CV)', 'F1 Macro (CV)', 'ROC AUC OVR (CV)', 'Tiempo Entrenamiento (s)', 'Mejores Parámetros']])\n",
        "\n",
        "# Seleccionar los dos mejores modelos basados en Accuracy\n",
        "top_2_model_names = tabla_comparativa.loc[0:1, 'Modelo'].tolist()\n",
        "\n",
        "# Recuperar los objetos estimadores correspondientes\n",
        "clf_top1_initial = best_estimators_initial[top_2_model_names[0]]\n",
        "clf_top2_initial = best_estimators_initial[top_2_model_names[1]]\n",
        "\n",
        "# Guardar información necesaria para el ajuste fino\n",
        "top_models_config = {}\n",
        "for model_name in top_2_model_names:\n",
        "    # Asume que MNB y MLP necesitan encoding, los otros no. Ajustar si usaste GaussianNB u otros.\n",
        "    needs_encoding = model_name in ['Naive Bayes MNB', 'Red Neuronal MLP']\n",
        "    top_models_config[model_name] = {\n",
        "        'estimator_class': best_estimators_initial[model_name].__class__,\n",
        "        'needs_encoding': needs_encoding\n",
        "    }\n",
        "\n",
        "print(f\"\\nLos dos mejores modelos seleccionados para ajuste fino son: {top_2_model_names[0]} y {top_2_model_names[1]}\")"
      ],
      "metadata": {
        "colab": {
          "base_uri": "https://localhost:8080/",
          "height": 307
        },
        "id": "6M5rIQtmKg7C",
        "outputId": "09274af4-9d01-4614-d6c6-583178acc3af"
      },
      "execution_count": 13,
      "outputs": [
        {
          "output_type": "stream",
          "name": "stdout",
          "text": [
            "\n",
            "### Tabla Comparativa de Modelos (Resultados del GridSearchCV Inicial)\n"
          ]
        },
        {
          "output_type": "display_data",
          "data": {
            "text/plain": [
              "                Modelo  Mejor Accuracy (CV)  F1 Macro (CV)  ROC AUC OVR (CV)  \\\n",
              "0                  KNN             0.684783       0.410817          0.563294   \n",
              "1                  SVC             0.684783       0.306152          0.468413   \n",
              "2     Red Neuronal MLP             0.679348       0.310515          0.634666   \n",
              "3      Naive Bayes MNB             0.673913       0.268398          0.659207   \n",
              "4  Regresión Logística             0.652174       0.377232          0.623814   \n",
              "5       Árbol Decisión             0.570652       0.425589          0.561060   \n",
              "\n",
              "   Tiempo Entrenamiento (s)                                 Mejores Parámetros  \n",
              "0                  9.057672          {'n_neighbors': 7, 'weights': 'distance'}  \n",
              "1                155.234080              {'C': 1, 'gamma': 1, 'kernel': 'rbf'}  \n",
              "2                111.997041  {'alpha': 0.001, 'hidden_layer_sizes': (16,), ...  \n",
              "3                  1.015642                                     {'alpha': 0.1}  \n",
              "4                779.635991                                         {'C': 100}  \n",
              "5                 48.764184  {'criterion': 'gini', 'max_depth': None, 'min_...  "
            ],
            "text/html": [
              "\n",
              "  <div id=\"df-b1194260-8c58-4a4d-9f64-417786123dfc\" class=\"colab-df-container\">\n",
              "    <div>\n",
              "<style scoped>\n",
              "    .dataframe tbody tr th:only-of-type {\n",
              "        vertical-align: middle;\n",
              "    }\n",
              "\n",
              "    .dataframe tbody tr th {\n",
              "        vertical-align: top;\n",
              "    }\n",
              "\n",
              "    .dataframe thead th {\n",
              "        text-align: right;\n",
              "    }\n",
              "</style>\n",
              "<table border=\"1\" class=\"dataframe\">\n",
              "  <thead>\n",
              "    <tr style=\"text-align: right;\">\n",
              "      <th></th>\n",
              "      <th>Modelo</th>\n",
              "      <th>Mejor Accuracy (CV)</th>\n",
              "      <th>F1 Macro (CV)</th>\n",
              "      <th>ROC AUC OVR (CV)</th>\n",
              "      <th>Tiempo Entrenamiento (s)</th>\n",
              "      <th>Mejores Parámetros</th>\n",
              "    </tr>\n",
              "  </thead>\n",
              "  <tbody>\n",
              "    <tr>\n",
              "      <th>0</th>\n",
              "      <td>KNN</td>\n",
              "      <td>0.684783</td>\n",
              "      <td>0.410817</td>\n",
              "      <td>0.563294</td>\n",
              "      <td>9.057672</td>\n",
              "      <td>{'n_neighbors': 7, 'weights': 'distance'}</td>\n",
              "    </tr>\n",
              "    <tr>\n",
              "      <th>1</th>\n",
              "      <td>SVC</td>\n",
              "      <td>0.684783</td>\n",
              "      <td>0.306152</td>\n",
              "      <td>0.468413</td>\n",
              "      <td>155.234080</td>\n",
              "      <td>{'C': 1, 'gamma': 1, 'kernel': 'rbf'}</td>\n",
              "    </tr>\n",
              "    <tr>\n",
              "      <th>2</th>\n",
              "      <td>Red Neuronal MLP</td>\n",
              "      <td>0.679348</td>\n",
              "      <td>0.310515</td>\n",
              "      <td>0.634666</td>\n",
              "      <td>111.997041</td>\n",
              "      <td>{'alpha': 0.001, 'hidden_layer_sizes': (16,), ...</td>\n",
              "    </tr>\n",
              "    <tr>\n",
              "      <th>3</th>\n",
              "      <td>Naive Bayes MNB</td>\n",
              "      <td>0.673913</td>\n",
              "      <td>0.268398</td>\n",
              "      <td>0.659207</td>\n",
              "      <td>1.015642</td>\n",
              "      <td>{'alpha': 0.1}</td>\n",
              "    </tr>\n",
              "    <tr>\n",
              "      <th>4</th>\n",
              "      <td>Regresión Logística</td>\n",
              "      <td>0.652174</td>\n",
              "      <td>0.377232</td>\n",
              "      <td>0.623814</td>\n",
              "      <td>779.635991</td>\n",
              "      <td>{'C': 100}</td>\n",
              "    </tr>\n",
              "    <tr>\n",
              "      <th>5</th>\n",
              "      <td>Árbol Decisión</td>\n",
              "      <td>0.570652</td>\n",
              "      <td>0.425589</td>\n",
              "      <td>0.561060</td>\n",
              "      <td>48.764184</td>\n",
              "      <td>{'criterion': 'gini', 'max_depth': None, 'min_...</td>\n",
              "    </tr>\n",
              "  </tbody>\n",
              "</table>\n",
              "</div>\n",
              "    <div class=\"colab-df-buttons\">\n",
              "\n",
              "  <div class=\"colab-df-container\">\n",
              "    <button class=\"colab-df-convert\" onclick=\"convertToInteractive('df-b1194260-8c58-4a4d-9f64-417786123dfc')\"\n",
              "            title=\"Convert this dataframe to an interactive table.\"\n",
              "            style=\"display:none;\">\n",
              "\n",
              "  <svg xmlns=\"http://www.w3.org/2000/svg\" height=\"24px\" viewBox=\"0 -960 960 960\">\n",
              "    <path d=\"M120-120v-720h720v720H120Zm60-500h600v-160H180v160Zm220 220h160v-160H400v160Zm0 220h160v-160H400v160ZM180-400h160v-160H180v160Zm440 0h160v-160H620v160ZM180-180h160v-160H180v160Zm440 0h160v-160H620v160Z\"/>\n",
              "  </svg>\n",
              "    </button>\n",
              "\n",
              "  <style>\n",
              "    .colab-df-container {\n",
              "      display:flex;\n",
              "      gap: 12px;\n",
              "    }\n",
              "\n",
              "    .colab-df-convert {\n",
              "      background-color: #E8F0FE;\n",
              "      border: none;\n",
              "      border-radius: 50%;\n",
              "      cursor: pointer;\n",
              "      display: none;\n",
              "      fill: #1967D2;\n",
              "      height: 32px;\n",
              "      padding: 0 0 0 0;\n",
              "      width: 32px;\n",
              "    }\n",
              "\n",
              "    .colab-df-convert:hover {\n",
              "      background-color: #E2EBFA;\n",
              "      box-shadow: 0px 1px 2px rgba(60, 64, 67, 0.3), 0px 1px 3px 1px rgba(60, 64, 67, 0.15);\n",
              "      fill: #174EA6;\n",
              "    }\n",
              "\n",
              "    .colab-df-buttons div {\n",
              "      margin-bottom: 4px;\n",
              "    }\n",
              "\n",
              "    [theme=dark] .colab-df-convert {\n",
              "      background-color: #3B4455;\n",
              "      fill: #D2E3FC;\n",
              "    }\n",
              "\n",
              "    [theme=dark] .colab-df-convert:hover {\n",
              "      background-color: #434B5C;\n",
              "      box-shadow: 0px 1px 3px 1px rgba(0, 0, 0, 0.15);\n",
              "      filter: drop-shadow(0px 1px 2px rgba(0, 0, 0, 0.3));\n",
              "      fill: #FFFFFF;\n",
              "    }\n",
              "  </style>\n",
              "\n",
              "    <script>\n",
              "      const buttonEl =\n",
              "        document.querySelector('#df-b1194260-8c58-4a4d-9f64-417786123dfc button.colab-df-convert');\n",
              "      buttonEl.style.display =\n",
              "        google.colab.kernel.accessAllowed ? 'block' : 'none';\n",
              "\n",
              "      async function convertToInteractive(key) {\n",
              "        const element = document.querySelector('#df-b1194260-8c58-4a4d-9f64-417786123dfc');\n",
              "        const dataTable =\n",
              "          await google.colab.kernel.invokeFunction('convertToInteractive',\n",
              "                                                    [key], {});\n",
              "        if (!dataTable) return;\n",
              "\n",
              "        const docLinkHtml = 'Like what you see? Visit the ' +\n",
              "          '<a target=\"_blank\" href=https://colab.research.google.com/notebooks/data_table.ipynb>data table notebook</a>'\n",
              "          + ' to learn more about interactive tables.';\n",
              "        element.innerHTML = '';\n",
              "        dataTable['output_type'] = 'display_data';\n",
              "        await google.colab.output.renderOutput(dataTable, element);\n",
              "        const docLink = document.createElement('div');\n",
              "        docLink.innerHTML = docLinkHtml;\n",
              "        element.appendChild(docLink);\n",
              "      }\n",
              "    </script>\n",
              "  </div>\n",
              "\n",
              "\n",
              "    <div id=\"df-976dede4-4e99-41da-926d-99938c8bb1ba\">\n",
              "      <button class=\"colab-df-quickchart\" onclick=\"quickchart('df-976dede4-4e99-41da-926d-99938c8bb1ba')\"\n",
              "                title=\"Suggest charts\"\n",
              "                style=\"display:none;\">\n",
              "\n",
              "<svg xmlns=\"http://www.w3.org/2000/svg\" height=\"24px\"viewBox=\"0 0 24 24\"\n",
              "     width=\"24px\">\n",
              "    <g>\n",
              "        <path d=\"M19 3H5c-1.1 0-2 .9-2 2v14c0 1.1.9 2 2 2h14c1.1 0 2-.9 2-2V5c0-1.1-.9-2-2-2zM9 17H7v-7h2v7zm4 0h-2V7h2v10zm4 0h-2v-4h2v4z\"/>\n",
              "    </g>\n",
              "</svg>\n",
              "      </button>\n",
              "\n",
              "<style>\n",
              "  .colab-df-quickchart {\n",
              "      --bg-color: #E8F0FE;\n",
              "      --fill-color: #1967D2;\n",
              "      --hover-bg-color: #E2EBFA;\n",
              "      --hover-fill-color: #174EA6;\n",
              "      --disabled-fill-color: #AAA;\n",
              "      --disabled-bg-color: #DDD;\n",
              "  }\n",
              "\n",
              "  [theme=dark] .colab-df-quickchart {\n",
              "      --bg-color: #3B4455;\n",
              "      --fill-color: #D2E3FC;\n",
              "      --hover-bg-color: #434B5C;\n",
              "      --hover-fill-color: #FFFFFF;\n",
              "      --disabled-bg-color: #3B4455;\n",
              "      --disabled-fill-color: #666;\n",
              "  }\n",
              "\n",
              "  .colab-df-quickchart {\n",
              "    background-color: var(--bg-color);\n",
              "    border: none;\n",
              "    border-radius: 50%;\n",
              "    cursor: pointer;\n",
              "    display: none;\n",
              "    fill: var(--fill-color);\n",
              "    height: 32px;\n",
              "    padding: 0;\n",
              "    width: 32px;\n",
              "  }\n",
              "\n",
              "  .colab-df-quickchart:hover {\n",
              "    background-color: var(--hover-bg-color);\n",
              "    box-shadow: 0 1px 2px rgba(60, 64, 67, 0.3), 0 1px 3px 1px rgba(60, 64, 67, 0.15);\n",
              "    fill: var(--button-hover-fill-color);\n",
              "  }\n",
              "\n",
              "  .colab-df-quickchart-complete:disabled,\n",
              "  .colab-df-quickchart-complete:disabled:hover {\n",
              "    background-color: var(--disabled-bg-color);\n",
              "    fill: var(--disabled-fill-color);\n",
              "    box-shadow: none;\n",
              "  }\n",
              "\n",
              "  .colab-df-spinner {\n",
              "    border: 2px solid var(--fill-color);\n",
              "    border-color: transparent;\n",
              "    border-bottom-color: var(--fill-color);\n",
              "    animation:\n",
              "      spin 1s steps(1) infinite;\n",
              "  }\n",
              "\n",
              "  @keyframes spin {\n",
              "    0% {\n",
              "      border-color: transparent;\n",
              "      border-bottom-color: var(--fill-color);\n",
              "      border-left-color: var(--fill-color);\n",
              "    }\n",
              "    20% {\n",
              "      border-color: transparent;\n",
              "      border-left-color: var(--fill-color);\n",
              "      border-top-color: var(--fill-color);\n",
              "    }\n",
              "    30% {\n",
              "      border-color: transparent;\n",
              "      border-left-color: var(--fill-color);\n",
              "      border-top-color: var(--fill-color);\n",
              "      border-right-color: var(--fill-color);\n",
              "    }\n",
              "    40% {\n",
              "      border-color: transparent;\n",
              "      border-right-color: var(--fill-color);\n",
              "      border-top-color: var(--fill-color);\n",
              "    }\n",
              "    60% {\n",
              "      border-color: transparent;\n",
              "      border-right-color: var(--fill-color);\n",
              "    }\n",
              "    80% {\n",
              "      border-color: transparent;\n",
              "      border-right-color: var(--fill-color);\n",
              "      border-bottom-color: var(--fill-color);\n",
              "    }\n",
              "    90% {\n",
              "      border-color: transparent;\n",
              "      border-bottom-color: var(--fill-color);\n",
              "    }\n",
              "  }\n",
              "</style>\n",
              "\n",
              "      <script>\n",
              "        async function quickchart(key) {\n",
              "          const quickchartButtonEl =\n",
              "            document.querySelector('#' + key + ' button');\n",
              "          quickchartButtonEl.disabled = true;  // To prevent multiple clicks.\n",
              "          quickchartButtonEl.classList.add('colab-df-spinner');\n",
              "          try {\n",
              "            const charts = await google.colab.kernel.invokeFunction(\n",
              "                'suggestCharts', [key], {});\n",
              "          } catch (error) {\n",
              "            console.error('Error during call to suggestCharts:', error);\n",
              "          }\n",
              "          quickchartButtonEl.classList.remove('colab-df-spinner');\n",
              "          quickchartButtonEl.classList.add('colab-df-quickchart-complete');\n",
              "        }\n",
              "        (() => {\n",
              "          let quickchartButtonEl =\n",
              "            document.querySelector('#df-976dede4-4e99-41da-926d-99938c8bb1ba button');\n",
              "          quickchartButtonEl.style.display =\n",
              "            google.colab.kernel.accessAllowed ? 'block' : 'none';\n",
              "        })();\n",
              "      </script>\n",
              "    </div>\n",
              "\n",
              "    </div>\n",
              "  </div>\n"
            ],
            "application/vnd.google.colaboratory.intrinsic+json": {
              "type": "dataframe",
              "summary": "{\n  \"name\": \"print(f\\\"\\\\nLos dos mejores modelos seleccionados para ajuste fino son: {top_2_model_names[0]} y {top_2_model_names[1]}\\\")\",\n  \"rows\": 6,\n  \"fields\": [\n    {\n      \"column\": \"Modelo\",\n      \"properties\": {\n        \"dtype\": \"string\",\n        \"num_unique_values\": 6,\n        \"samples\": [\n          \"KNN\",\n          \"SVC\",\n          \"\\u00c1rbol Decisi\\u00f3n\"\n        ],\n        \"semantic_type\": \"\",\n        \"description\": \"\"\n      }\n    },\n    {\n      \"column\": \"Mejor Accuracy (CV)\",\n      \"properties\": {\n        \"dtype\": \"number\",\n        \"std\": 0.04428597562492034,\n        \"min\": 0.5706521739130435,\n        \"max\": 0.6847826086956521,\n        \"num_unique_values\": 5,\n        \"samples\": [\n          0.6793478260869565,\n          0.5706521739130435,\n          0.6739130434782609\n        ],\n        \"semantic_type\": \"\",\n        \"description\": \"\"\n      }\n    },\n    {\n      \"column\": \"F1 Macro (CV)\",\n      \"properties\": {\n        \"dtype\": \"number\",\n        \"std\": 0.06370909117856341,\n        \"min\": 0.2683982683982684,\n        \"max\": 0.4255888950928597,\n        \"num_unique_values\": 6,\n        \"samples\": [\n          0.41081681702766276,\n          0.30615219566073526,\n          0.4255888950928597\n        ],\n        \"semantic_type\": \"\",\n        \"description\": \"\"\n      }\n    },\n    {\n      \"column\": \"ROC AUC OVR (CV)\",\n      \"properties\": {\n        \"dtype\": \"number\",\n        \"std\": 0.06945010331826096,\n        \"min\": 0.4684133141900544,\n        \"max\": 0.6592066794740818,\n        \"num_unique_values\": 6,\n        \"samples\": [\n          0.5632944004919811,\n          0.4684133141900544,\n          0.5610599072451788\n        ],\n        \"semantic_type\": \"\",\n        \"description\": \"\"\n      }\n    },\n    {\n      \"column\": \"Tiempo Entrenamiento (s)\",\n      \"properties\": {\n        \"dtype\": \"number\",\n        \"std\": 297.71478750208314,\n        \"min\": 1.0156421661376953,\n        \"max\": 779.6359910964966,\n        \"num_unique_values\": 6,\n        \"samples\": [\n          9.057671546936035,\n          155.23408007621765,\n          48.76418352127075\n        ],\n        \"semantic_type\": \"\",\n        \"description\": \"\"\n      }\n    },\n    {\n      \"column\": \"Mejores Par\\u00e1metros\",\n      \"properties\": {\n        \"dtype\": \"string\",\n        \"num_unique_values\": 6,\n        \"samples\": [\n          \"{'n_neighbors': 7, 'weights': 'distance'}\",\n          \"{'C': 1, 'gamma': 1, 'kernel': 'rbf'}\",\n          \"{'criterion': 'gini', 'max_depth': None, 'min_samples_split': 2}\"\n        ],\n        \"semantic_type\": \"\",\n        \"description\": \"\"\n      }\n    }\n  ]\n}"
            }
          },
          "metadata": {}
        },
        {
          "output_type": "stream",
          "name": "stdout",
          "text": [
            "\n",
            "Los dos mejores modelos seleccionados para ajuste fino son: KNN y SVC\n"
          ]
        }
      ]
    },
    {
      "cell_type": "markdown",
      "source": [
        "## 5. Ajuste Fino (Fine-Tuning) de los Dos Mejores Modelos 🛠️\n",
        "\n",
        "Se realizará una búsqueda de hiperparámetros más exhaustiva (`cv=5`) para los dos modelos seleccionados."
      ],
      "metadata": {
        "id": "ei8nJb1bLLht"
      }
    },
    {
      "cell_type": "code",
      "source": [
        "model_name_1 = top_2_model_names[0]\n",
        "print(f\"\\n--- Ajuste Fino: {model_name_1} ---\")\n",
        "\n",
        "# Re-instanciar con parámetros base y definir grid para ajuste fino\n",
        "EstimatorClass1 = top_models_config[model_name_1]['estimator_class']\n",
        "needs_encoding1 = top_models_config[model_name_1]['needs_encoding']\n",
        "# Asegurar que se pasen los parámetros correctos al instanciar\n",
        "if 'random_state' in EstimatorClass1().get_params():\n",
        "    clf_top1 = EstimatorClass1(random_state=42)\n",
        "else:\n",
        "     clf_top1 = EstimatorClass1()\n",
        "\n",
        "# Definir grids de ajuste fino (EJEMPLOS, AJUSTAR SEGÚN EL MODELO SELECCIONADO)\n",
        "param_grid_fine_tuning_1 = {}\n",
        "if model_name_1 == 'Regresión Logística':\n",
        "    clf_top1 = LogisticRegression(solver=\"saga\", max_iter=2000, penalty=\"l2\", class_weight=\"balanced\", random_state=42)\n",
        "    param_grid_fine_tuning_1 = {'C': [0.5, 1, 5, 10, 50, 100]}\n",
        "elif model_name_1 == 'KNN':\n",
        "    param_grid_fine_tuning_1 = {'n_neighbors': [3, 5, 7, 9, 11, 15], 'weights': ['uniform', 'distance'], 'metric': ['euclidean', 'manhattan']}\n",
        "elif model_name_1 == 'Árbol Decisión':\n",
        "    clf_top1 = DecisionTreeClassifier(random_state=42, class_weight='balanced')\n",
        "    param_grid_fine_tuning_1 = {'criterion': ['gini', 'entropy'], 'max_depth': [5, 10, 15, 20, None], 'min_samples_split': [2, 5, 10], 'min_samples_leaf': [1, 3, 5]}\n",
        "elif model_name_1 == 'SVC':\n",
        "    clf_top1 = SVC(random_state=42, class_weight='balanced', probability=True)\n",
        "    param_grid_fine_tuning_1 = {'C': [0.5, 1, 5, 10], 'gamma': [0.1, 1, 'scale'], 'kernel': ['rbf']} # Ajustar gamma si scale fue el mejor\n",
        "elif model_name_1 == 'Naive Bayes MNB':\n",
        "    param_grid_fine_tuning_1 = {'alpha': np.logspace(-3, 1, 5)} # Ej: [0.001, 0.01, 0.1, 1., 10.]\n",
        "elif model_name_1 == 'Red Neuronal MLP':\n",
        "     clf_top1 = MLPClassifier(random_state=42, max_iter=150, early_stopping=True, n_iter_no_change=10)\n",
        "     param_grid_fine_tuning_1 = {'hidden_layer_sizes': [(16,), (32,), (64,), (32, 16)], 'alpha': [0.0001, 0.001, 0.01], 'learning_rate_init': [0.001, 0.005, 0.01]}\n",
        "\n",
        "grid_search_fine_tuning_1 = GridSearchCV(estimator=clf_top1,\n",
        "                                         param_grid=param_grid_fine_tuning_1,\n",
        "                                         cv=5, # Usar 5 folds\n",
        "                                         scoring=scoring,\n",
        "                                         verbose=2,\n",
        "                                         n_jobs=-1,\n",
        "                                         refit='accuracy')\n",
        "\n",
        "y_train_target_1 = y_train_encoded if needs_encoding1 else y_train\n",
        "start_time_ft1 = time.time()\n",
        "grid_search_fine_tuning_1.fit(X_train, y_train_target_1)\n",
        "end_time_ft1 = time.time()\n",
        "tuning_time_1 = end_time_ft1 - start_time_ft1\n",
        "\n",
        "print(f\"\\nResultados Ajuste Fino para {model_name_1}:\")\n",
        "print(f\"Mejores Parámetros: {grid_search_fine_tuning_1.best_params_}\")\n",
        "print(f\"Mejor Accuracy (CV=5): {grid_search_fine_tuning_1.best_score_:.4f}\")\n",
        "print(f\"Tiempo de ajuste fino: {tuning_time_1:.2f} segundos\")\n",
        "best_model_tuned_1 = grid_search_fine_tuning_1.best_estimator_"
      ],
      "metadata": {
        "colab": {
          "base_uri": "https://localhost:8080/"
        },
        "id": "SN564RCBLG3B",
        "outputId": "3d8dc34a-107c-4e61-ac31-c3f5054cf283"
      },
      "execution_count": 14,
      "outputs": [
        {
          "output_type": "stream",
          "name": "stdout",
          "text": [
            "\n",
            "--- Ajuste Fino: KNN ---\n",
            "Fitting 5 folds for each of 24 candidates, totalling 120 fits\n",
            "\n",
            "Resultados Ajuste Fino para KNN:\n",
            "Mejores Parámetros: {'metric': 'euclidean', 'n_neighbors': 15, 'weights': 'distance'}\n",
            "Mejor Accuracy (CV=5): 0.6742\n",
            "Tiempo de ajuste fino: 119.83 segundos\n"
          ]
        }
      ]
    },
    {
      "cell_type": "code",
      "source": [
        "model_name_2 = top_2_model_names[1]\n",
        "print(f\"\\n--- Ajuste Fino: {model_name_2} ---\")\n",
        "\n",
        "# Re-instanciar con parámetros base y definir grid para ajuste fino\n",
        "EstimatorClass2 = top_models_config[model_name_2]['estimator_class']\n",
        "needs_encoding2 = top_models_config[model_name_2]['needs_encoding']\n",
        "if 'random_state' in EstimatorClass2().get_params():\n",
        "    clf_top2 = EstimatorClass2(random_state=42)\n",
        "else:\n",
        "     clf_top2 = EstimatorClass2()\n",
        "\n",
        "\n",
        "# Definir grids de ajuste fino (EJEMPLOS, AJUSTAR SEGÚN EL MODELO SELECCIONADO)\n",
        "param_grid_fine_tuning_2 = {}\n",
        "if model_name_2 == 'Regresión Logística':\n",
        "    clf_top2 = LogisticRegression(solver=\"saga\", max_iter=2000, penalty=\"l2\", class_weight=\"balanced\", random_state=42)\n",
        "    param_grid_fine_tuning_2 = {'C': [0.5, 1, 5, 10, 50, 100]}\n",
        "elif model_name_2 == 'KNN':\n",
        "    param_grid_fine_tuning_2 = {'n_neighbors': [3, 5, 7, 9, 11, 15], 'weights': ['uniform', 'distance'], 'metric': ['euclidean', 'manhattan']}\n",
        "elif model_name_2 == 'Árbol Decisión':\n",
        "    clf_top2 = DecisionTreeClassifier(random_state=42, class_weight='balanced')\n",
        "    param_grid_fine_tuning_2 = {'criterion': ['gini', 'entropy'], 'max_depth': [5, 10, 15, 20, None], 'min_samples_split': [2, 5, 10], 'min_samples_leaf': [1, 3, 5]}\n",
        "elif model_name_2 == 'SVC':\n",
        "    clf_top2 = SVC(random_state=42, class_weight='balanced', probability=True)\n",
        "    param_grid_fine_tuning_2 = {'C': [0.5, 1, 5, 10], 'gamma': [0.1, 1, 'scale'], 'kernel': ['rbf']}\n",
        "elif model_name_2 == 'Naive Bayes MNB':\n",
        "     param_grid_fine_tuning_2 = {'alpha': np.logspace(-3, 1, 5)} # Ej: [0.001, 0.01, 0.1, 1., 10.]\n",
        "elif model_name_2 == 'Red Neuronal MLP':\n",
        "     clf_top2 = MLPClassifier(random_state=42, max_iter=150, early_stopping=True, n_iter_no_change=10)\n",
        "     param_grid_fine_tuning_2 = {'hidden_layer_sizes': [(16,), (32,), (64,), (32, 16)], 'alpha': [0.0001, 0.001, 0.01], 'learning_rate_init': [0.001, 0.005, 0.01]}\n",
        "\n",
        "\n",
        "grid_search_fine_tuning_2 = GridSearchCV(estimator=clf_top2,\n",
        "                                         param_grid=param_grid_fine_tuning_2,\n",
        "                                         cv=5, # Usar 5 folds\n",
        "                                         scoring=scoring,\n",
        "                                         verbose=2,\n",
        "                                         n_jobs=-1,\n",
        "                                         refit='accuracy')\n",
        "\n",
        "y_train_target_2 = y_train_encoded if needs_encoding2 else y_train\n",
        "start_time_ft2 = time.time()\n",
        "grid_search_fine_tuning_2.fit(X_train, y_train_target_2)\n",
        "end_time_ft2 = time.time()\n",
        "tuning_time_2 = end_time_ft2 - start_time_ft2\n",
        "\n",
        "print(f\"\\nResultados Ajuste Fino para {model_name_2}:\")\n",
        "print(f\"Mejores Parámetros: {grid_search_fine_tuning_2.best_params_}\")\n",
        "print(f\"Mejor Accuracy (CV=5): {grid_search_fine_tuning_2.best_score_:.4f}\")\n",
        "print(f\"Tiempo de ajuste fino: {tuning_time_2:.2f} segundos\")\n",
        "best_model_tuned_2 = grid_search_fine_tuning_2.best_estimator_"
      ],
      "metadata": {
        "colab": {
          "base_uri": "https://localhost:8080/"
        },
        "id": "hwfDtJHSLcne",
        "outputId": "9a59257e-5d54-451f-a1b3-794ab69b45f8"
      },
      "execution_count": 15,
      "outputs": [
        {
          "output_type": "stream",
          "name": "stdout",
          "text": [
            "\n",
            "--- Ajuste Fino: SVC ---\n",
            "Fitting 5 folds for each of 12 candidates, totalling 60 fits\n",
            "\n",
            "Resultados Ajuste Fino para SVC:\n",
            "Mejores Parámetros: {'C': 1, 'gamma': 1, 'kernel': 'rbf'}\n",
            "Mejor Accuracy (CV=5): 0.6848\n",
            "Tiempo de ajuste fino: 1187.74 segundos\n"
          ]
        }
      ]
    },
    {
      "cell_type": "markdown",
      "source": [
        "## 6. Evaluación Final en Conjunto de Prueba ✅\n",
        "\n",
        "Evaluamos los dos modelos afinados con los datos de `X_test` y `y_test`."
      ],
      "metadata": {
        "id": "oRLy_XuaRjH8"
      }
    },
    {
      "cell_type": "code",
      "source": [
        "from sklearn.metrics import accuracy_score, classification_report, roc_auc_score, f1_score\n",
        "import matplotlib.pyplot as plt\n",
        "import seaborn as sns\n",
        "from sklearn.preprocessing import label_binarize\n",
        "import numpy as np # Ensure numpy is imported\n",
        "\n",
        "results_test = {}\n",
        "\n",
        "# Convert class_names to string array *if* they are not already strings\n",
        "# This handles cases where original labels might have been numeric\n",
        "if 'le' in globals() and hasattr(le, 'classes_'):\n",
        "    if not isinstance(le.classes_[0], str):\n",
        "        class_names_str = le.classes_.astype(str)\n",
        "    else:\n",
        "        class_names_str = le.classes_\n",
        "else:\n",
        "    # Fallback if LabelEncoder wasn't used properly or class names unavailable\n",
        "    unique_labels = np.unique(y_train)\n",
        "    class_names_str = unique_labels.astype(str)\n",
        "\n",
        "\n",
        "# --- Evaluación Modelo 1 Afinado ---\n",
        "model_name_1 = top_2_model_names[0] # Get name from previous cell\n",
        "needs_encoding1 = top_models_config[model_name_1]['needs_encoding'] # Get encoding flag\n",
        "\n",
        "print(f\"\\n--- Evaluación en Test: {model_name_1} --- \")\n",
        "y_test_target_1 = y_test_encoded if needs_encoding1 else y_test\n",
        "y_pred_tuned_1 = best_model_tuned_1.predict(X_test)\n",
        "\n",
        "# Calcular métricas básicas\n",
        "accuracy_tuned_1 = accuracy_score(y_test_target_1, y_pred_tuned_1)\n",
        "f1_macro_tuned_1 = f1_score(y_test_target_1, y_pred_tuned_1, average='macro')\n",
        "\n",
        "# CORRECTED: Always pass string names if not using encoded labels\n",
        "report_tuned_1 = classification_report(y_test_target_1, y_pred_tuned_1, target_names=class_names_str if not needs_encoding1 else None, digits=4)\n",
        "\n",
        "# Calcular ROC AUC (maneja error si predict_proba no está disponible)\n",
        "roc_auc_tuned_1 = np.nan # Valor por defecto\n",
        "if hasattr(best_model_tuned_1, \"predict_proba\"):\n",
        "    try:\n",
        "        y_proba_tuned_1 = best_model_tuned_1.predict_proba(X_test)\n",
        "        # Binarizar y_test_target para ROC AUC multiclase\n",
        "        unique_test_labels_1 = np.unique(y_test_target_1)\n",
        "        y_test_binarized_1 = label_binarize(y_test_target_1, classes=unique_test_labels_1)\n",
        "\n",
        "        # Handle binary vs multiclass for roc_auc_score input shapes\n",
        "        if len(unique_test_labels_1) == 2:\n",
        "             # Use probability of the positive class (usually class 1)\n",
        "             roc_auc_tuned_1 = roc_auc_score(y_test_target_1, y_proba_tuned_1[:, 1])\n",
        "        elif y_test_binarized_1.shape[1] == y_proba_tuned_1.shape[1]:\n",
        "             roc_auc_tuned_1 = roc_auc_score(y_test_binarized_1, y_proba_tuned_1, multi_class='ovr', average='macro')\n",
        "        else:\n",
        "            print(f\"Advertencia: No se pudo calcular ROC AUC para {model_name_1} debido a inconsistencia de dimensiones.\")\n",
        "\n",
        "    except Exception as e:\n",
        "        print(f\"Advertencia: No se pudo calcular predict_proba o ROC AUC para {model_name_1}. Error: {e}\")\n",
        "else:\n",
        "    print(f\"Advertencia: El modelo {model_name_1} no tiene el método predict_proba, no se calculará ROC AUC.\")\n",
        "\n",
        "\n",
        "print(f\"Accuracy en Test: {accuracy_tuned_1:.4f}\")\n",
        "print(\"Classification Report en Test:\\n\", report_tuned_1)\n",
        "print(f\"F1 Macro en Test: {f1_macro_tuned_1:.4f}\")\n",
        "print(f\"ROC AUC (OVR, Macro) en Test: {roc_auc_tuned_1:.4f}\" if not np.isnan(roc_auc_tuned_1) else \"ROC AUC (OVR, Macro) en Test: No calculado\")\n",
        "\n",
        "results_test[model_name_1] = {\n",
        "    'Accuracy': accuracy_tuned_1,\n",
        "    'F1 Macro': f1_macro_tuned_1,\n",
        "    'ROC AUC OVR': roc_auc_tuned_1\n",
        "}\n",
        "\n",
        "# --- Evaluación Modelo 2 Afinado ---\n",
        "model_name_2 = top_2_model_names[1] # Get name from previous cell\n",
        "needs_encoding2 = top_models_config[model_name_2]['needs_encoding'] # Get encoding flag\n",
        "\n",
        "print(f\"\\n--- Evaluación en Test: {model_name_2} --- \")\n",
        "y_test_target_2 = y_test_encoded if needs_encoding2 else y_test\n",
        "y_pred_tuned_2 = best_model_tuned_2.predict(X_test)\n",
        "\n",
        "# Calcular métricas básicas\n",
        "accuracy_tuned_2 = accuracy_score(y_test_target_2, y_pred_tuned_2)\n",
        "f1_macro_tuned_2 = f1_score(y_test_target_2, y_pred_tuned_2, average='macro')\n",
        "\n",
        "# CORRECTED: Always pass string names if not using encoded labels\n",
        "report_tuned_2 = classification_report(y_test_target_2, y_pred_tuned_2, target_names=class_names_str if not needs_encoding2 else None, digits=4)\n",
        "\n",
        "# Calcular ROC AUC\n",
        "roc_auc_tuned_2 = np.nan\n",
        "if hasattr(best_model_tuned_2, \"predict_proba\"):\n",
        "    try:\n",
        "        y_proba_tuned_2 = best_model_tuned_2.predict_proba(X_test)\n",
        "        unique_test_labels_2 = np.unique(y_test_target_2)\n",
        "        y_test_binarized_2 = label_binarize(y_test_target_2, classes=unique_test_labels_2)\n",
        "\n",
        "        if len(unique_test_labels_2) == 2:\n",
        "             roc_auc_tuned_2 = roc_auc_score(y_test_target_2, y_proba_tuned_2[:, 1])\n",
        "        elif y_test_binarized_2.shape[1] == y_proba_tuned_2.shape[1]:\n",
        "             roc_auc_tuned_2 = roc_auc_score(y_test_binarized_2, y_proba_tuned_2, multi_class='ovr', average='macro')\n",
        "        else:\n",
        "             print(f\"Advertencia: No se pudo calcular ROC AUC para {model_name_2} debido a inconsistencia de dimensiones.\")\n",
        "    except Exception as e:\n",
        "        print(f\"Advertencia: No se pudo calcular predict_proba o ROC AUC para {model_name_2}. Error: {e}\")\n",
        "else:\n",
        "     print(f\"Advertencia: El modelo {model_name_2} no tiene el método predict_proba, no se calculará ROC AUC.\")\n",
        "\n",
        "\n",
        "print(f\"Accuracy en Test: {accuracy_tuned_2:.4f}\")\n",
        "print(\"Classification Report en Test:\\n\", report_tuned_2)\n",
        "print(f\"F1 Macro en Test: {f1_macro_tuned_2:.4f}\")\n",
        "print(f\"ROC AUC (OVR, Macro) en Test: {roc_auc_tuned_2:.4f}\" if not np.isnan(roc_auc_tuned_2) else \"ROC AUC (OVR, Macro) en Test: No calculado\")\n",
        "\n",
        "results_test[model_name_2] = {\n",
        "    'Accuracy': accuracy_tuned_2,\n",
        "    'F1 Macro': f1_macro_tuned_2,\n",
        "    'ROC AUC OVR': roc_auc_tuned_2\n",
        "}"
      ],
      "metadata": {
        "colab": {
          "base_uri": "https://localhost:8080/"
        },
        "id": "ALTMX5AxRnkC",
        "outputId": "e3fcec76-1795-4c21-aa1e-9b2ee64ff761"
      },
      "execution_count": 17,
      "outputs": [
        {
          "output_type": "stream",
          "name": "stdout",
          "text": [
            "\n",
            "--- Evaluación en Test: KNN --- \n",
            "Accuracy en Test: 0.6522\n",
            "Classification Report en Test:\n",
            "               precision    recall  f1-score   support\n",
            "\n",
            "          -1     0.0000    0.0000    0.0000         7\n",
            "           0     0.6818    0.9677    0.8000        31\n",
            "           1     0.0000    0.0000    0.0000         8\n",
            "\n",
            "    accuracy                         0.6522        46\n",
            "   macro avg     0.2273    0.3226    0.2667        46\n",
            "weighted avg     0.4595    0.6522    0.5391        46\n",
            "\n",
            "F1 Macro en Test: 0.2667\n",
            "ROC AUC (OVR, Macro) en Test: 0.6196\n",
            "\n",
            "--- Evaluación en Test: SVC --- \n",
            "Accuracy en Test: 0.6522\n",
            "Classification Report en Test:\n",
            "               precision    recall  f1-score   support\n",
            "\n",
            "          -1     0.0000    0.0000    0.0000         7\n",
            "           0     0.6818    0.9677    0.8000        31\n",
            "           1     0.0000    0.0000    0.0000         8\n",
            "\n",
            "    accuracy                         0.6522        46\n",
            "   macro avg     0.2273    0.3226    0.2667        46\n",
            "weighted avg     0.4595    0.6522    0.5391        46\n",
            "\n",
            "F1 Macro en Test: 0.2667\n",
            "ROC AUC (OVR, Macro) en Test: 0.6463\n"
          ]
        }
      ]
    },
    {
      "cell_type": "markdown",
      "source": [
        "## 7. Elección del Modelo Final y Justificación 💡"
      ],
      "metadata": {
        "id": "g3ac8VUmSO5t"
      }
    },
    {
      "cell_type": "code",
      "source": [
        "# Comparar resultados en Test para determinar el modelo final (basado en Accuracy)\n",
        "acc1 = results_test[model_name_1]['Accuracy']\n",
        "acc2 = results_test[model_name_2]['Accuracy']\n",
        "\n",
        "if acc1 >= acc2:\n",
        "    final_model_name = model_name_1\n",
        "    other_model_name = model_name_2\n",
        "    final_accuracy = acc1\n",
        "    other_accuracy = acc2\n",
        "    final_f1 = results_test[model_name_1]['F1 Macro']\n",
        "    other_f1 = results_test[model_name_2]['F1 Macro']\n",
        "    final_roc_auc = results_test[model_name_1]['ROC AUC OVR']\n",
        "    other_roc_auc = results_test[model_name_2]['ROC AUC OVR']\n",
        "else:\n",
        "    final_model_name = model_name_2\n",
        "    other_model_name = model_name_1\n",
        "    final_accuracy = acc2\n",
        "    other_accuracy = acc1\n",
        "    final_f1 = results_test[model_name_2]['F1 Macro']\n",
        "    other_f1 = results_test[model_name_1]['F1 Macro']\n",
        "    final_roc_auc = results_test[model_name_2]['ROC AUC OVR']\n",
        "    other_roc_auc = results_test[model_name_1]['ROC AUC OVR']\n",
        "\n",
        "# Recuperar tiempos de entrenamiento iniciales para la justificación\n",
        "time_final = tabla_comparativa[tabla_comparativa['Modelo'] == final_model_name]['Tiempo Entrenamiento (s)'].iloc[0]\n",
        "time_other = tabla_comparativa[tabla_comparativa['Modelo'] == other_model_name]['Tiempo Entrenamiento (s)'].iloc[0]\n",
        "\n",
        "print(f\"Modelo Final Seleccionado (basado en Accuracy en Test): {final_model_name}\")"
      ],
      "metadata": {
        "colab": {
          "base_uri": "https://localhost:8080/"
        },
        "id": "Xkuj0ckySFRO",
        "outputId": "31c90c94-347e-4759-88d6-6adcc45f1661"
      },
      "execution_count": 18,
      "outputs": [
        {
          "output_type": "stream",
          "name": "stdout",
          "text": [
            "Modelo Final Seleccionado (basado en Accuracy en Test): KNN\n"
          ]
        }
      ]
    },
    {
      "cell_type": "markdown",
      "source": [
        "### Justificación\n",
        "\n",
        "Después de realizar el ajuste fino (con `cv=5`) y evaluar los dos mejores modelos identificados en la fase inicial (KNN y SVC) en el conjunto de prueba, los resultados finales son:\n",
        "\n",
        "* **KNN (Afinado):**\n",
        "    * Accuracy (Test): 0.6522\n",
        "    * F1-Macro (Test): 0.2667\n",
        "    * ROC AUC OVR (Test): 0.6196\n",
        "    * Tiempo Entrenamiento Inicial (GridSearchCV CV=2): 9.06 segundos\n",
        "\n",
        "* **SVC (Afinado):**\n",
        "    * Accuracy (Test): 0.6522\n",
        "    * F1-Macro (Test): 0.2667\n",
        "    * ROC AUC OVR (Test): 0.6463\n",
        "    * Tiempo Entrenamiento Inicial (GridSearchCV CV=2): 155.23 segundos\n",
        "\n",
        "**Elección:**\n",
        "Se selecciona el modelo **KNN** como el modelo individual final.\n",
        "\n",
        "**Razonamiento:**\n",
        "Ambos modelos, KNN y SVC, mostraron **rendimientos idénticos** en términos de Accuracy (0.6522) y F1-Macro (0.2667) en el conjunto de prueba después del ajuste fino.\n",
        "\n",
        "Considerando las métricas secundarias en el *test set*:\n",
        "* El ROC AUC OVR fue ligeramente superior para SVC (0.6463) en comparación con KNN (0.6196), lo que sugiere una mejor capacidad de discriminación general por parte de SVC.\n",
        "\n",
        "Sin embargo, en cuanto al **tiempo de entrenamiento** (basado en la búsqueda inicial con CV=2), el modelo **KNN fue significativamente más rápido** (9.06 segundos) en comparación con SVC (155.23 segundos). Esta diferencia de eficiencia es considerable.\n",
        "\n",
        "Dado que ambos modelos tienen el mismo rendimiento en las métricas principales (Accuracy y F1-Macro) en el conjunto de prueba, y considerando la **gran ventaja en eficiencia computacional** del KNN, se elige **KNN** como el modelo final. Representa un mejor balance entre rendimiento y coste computacional para este problema bajo las condiciones evaluadas."
      ],
      "metadata": {
        "id": "pLrm4HSATmLp"
      }
    },
    {
      "cell_type": "code",
      "source": [],
      "metadata": {
        "id": "6ewoqypzSSGs"
      },
      "execution_count": null,
      "outputs": []
    }
  ]
}